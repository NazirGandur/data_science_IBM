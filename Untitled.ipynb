{
 "cells": [
  {
   "cell_type": "markdown",
   "id": "99424430",
   "metadata": {},
   "source": [
    "# TItle: My final project"
   ]
  },
  {
   "cell_type": "markdown",
   "id": "d183c05d",
   "metadata": {},
   "source": [
    "## Introduction"
   ]
  },
  {
   "cell_type": "markdown",
   "id": "c67cdc4e",
   "metadata": {},
   "source": [
    "## Data science Landuages"
   ]
  },
  {
   "cell_type": "markdown",
   "id": "9dc3298c",
   "metadata": {},
   "source": [
    "Python, R, Java, MATLAB, Julia, SQL, C++"
   ]
  },
  {
   "cell_type": "markdown",
   "id": "5fac521c",
   "metadata": {},
   "source": [
    "Python:\n",
    "NumPy\n",
    "pandas\n",
    "Matplotlib\n",
    "seaborn\n",
    "scikit-learn\n",
    "TensorFlow and PyTorch\n",
    "\n",
    "R:\n",
    "dplyr\n",
    "ggplot2\n",
    "caret\n",
    "randomForest\n",
    "xgboost\n",
    "\n",
    "Java:\n",
    "Weka\n",
    "Deeplearning4j\n",
    "Apache Spark MLlib\n",
    "\n",
    "MATLAB:\n",
    "Statistics and Machine Learning Toolbox\n",
    "Deep Learning Toolbox\n",
    "\n",
    "Julia:\n",
    "DataFrames.jl\n",
    "MLJ.jl\n",
    "\n",
    "SQL:\n",
    "SQL (used for database querying and data manipulation)\n",
    "\n",
    "C++:\n",
    "Dlib\n",
    "Shark"
   ]
  },
  {
   "cell_type": "markdown",
   "id": "73199a21",
   "metadata": {},
   "source": [
    "| Tool             | Description                                      | Website                                  |\n",
    "|------------------|--------------------------------------------------|------------------------------------------|\n",
    "| **Programming Language** |\n",
    "| Python           | Versatile programming language                   | [python.org](https://www.python.org/)    |\n",
    "| **Data Manipulation & Analysis** |\n",
    "| NumPy            | Numerical computing with arrays                  | [numpy.org](https://numpy.org/)          |\n",
    "| pandas           | Data manipulation and analysis                  | [pandas.pydata.org](https://pandas.pydata.org/) |\n",
    "| **Data Visualization** |\n",
    "| Matplotlib       | 2D plotting library                              | [matplotlib.org](https://matplotlib.org/)|\n",
    "| seaborn          | Statistical data visualization                   | [seaborn.pydata.org](https://seaborn.pydata.org/) |\n",
    "| **Machine Learning** |\n",
    "| scikit-learn     | Machine learning library                         | [scikit-learn.org](https://scikit-learn.org/) |\n",
    "| TensorFlow       | Deep learning framework                          | [tensorflow.org](https://www.tensorflow.org/) |\n",
    "| PyTorch          | Deep learning framework                          | [pytorch.org](https://pytorch.org/)      |\n",
    "| **Natural Language Processing** |\n",
    "| NLTK             | Natural Language Toolkit                        | [nltk.org](https://www.nltk.org/)        |\n",
    "| spaCy            | Industrial-strength NLP                         | [spacy.io](https://spacy.io/)            |\n",
    "| **Big Data & Distributed Computing** |\n",
    "| Apache Spark     | Big data processing                              | [spark.apache.org](https://spark.apache.org/) |\n",
    "| Dask             | Parallel and distributed computing               | [dask.org](https://dask.org/)            |\n",
    "| **Data Visualization Libraries** |\n",
    "| Plotly           | Interactive data visualization                   | [plotly.com](https://plotly.com/)        |\n",
    "| Bokeh            | Interactive web plotting                        | [bokeh.org](https://bokeh.org/)          |\n",
    "| **Interactive Computing** |\n",
    "| Jupyter Notebook | Interactive notebooks                           | [jupyter.org](https://jupyter.org/)      |\n",
    "| JupyterLab       | Interactive development environment              | [jupyter.org](https://jupyter.org/)      |\n",
    "| **Version Control** |\n",
    "| Git              | Distributed version control system               | [git-scm.com](https://git-scm.com/)      |\n",
    "| GitHub           | Web-based Git repository hosting                | [github.com](https://github.com/)        |\n"
   ]
  },
  {
   "cell_type": "markdown",
   "id": "9cb2b493",
   "metadata": {},
   "source": [
    "# Arithmetic Expression Examples\n",
    "\n",
    "Arithmetic expressions are fundamental mathematical statements that involve basic operations like addition, subtraction, multiplication, and division. They are used to perform calculations and evaluate numerical values. In this section, we'll explore some common examples of arithmetic expressions.\n",
    "\n",
    "## Basic Arithmetic Operations\n",
    "\n",
    "1. **Addition:** Adding two numbers together.\n",
    "   - Example: `3 + 5 = 8`\n",
    "\n",
    "2. **Subtraction:** Subtracting one number from another.\n",
    "   - Example: `10 - 4 = 6`\n",
    "\n",
    "3. **Multiplication:** Multiplying two numbers.\n",
    "   - Example: `6 * 7 = 42`\n",
    "\n",
    "4. **Division:** Dividing one number by another.\n",
    "   - Example: `12 / 3 = 4`\n",
    "\n",
    "## Order of Operations\n",
    "\n",
    "When multiple operations are present in an expression, the order of operations matters. The acronym **PEMDAS** can help you remember the order:\n",
    "   - **P**arentheses\n",
    "   - **E**xponents (Powers and Roots)\n",
    "   - **M**ultiplication and **D**ivision (left-to-right)\n",
    "   - **A**ddition and **S**ubtraction (left-to-right)\n",
    "\n",
    "5. **Parentheses:** Using parentheses to control the order of operations.\n",
    "   - Example: `(3 + 4) * 2 = 14`\n",
    "\n",
    "6. **Exponents:** Raising a number to a power.\n",
    "   - Example: `2^3 = 8`\n",
    "\n",
    "7. **Mixed Operations:** Combining multiple operations following the order of operations.\n",
    "   - Example: `5 + 3 * (10 / 2) = 5 + 3 * 5 = 5 + 15 = 20`"
   ]
  },
  {
   "cell_type": "code",
   "execution_count": 3,
   "id": "1e59576c",
   "metadata": {},
   "outputs": [
    {
     "name": "stdout",
     "output_type": "stream",
     "text": [
      "Multiplication: 5 * 3 = 15\n",
      "Addition: 5 + 3 = 8\n"
     ]
    }
   ],
   "source": [
    "# Define two numbers\n",
    "num1 = 5\n",
    "num2 = 3\n",
    "\n",
    "# Perform multiplication\n",
    "result_mul = num1 * num2\n",
    "\n",
    "# Perform addition\n",
    "result_add = num1 + num2\n",
    "\n",
    "# Print the results\n",
    "print(f\"Multiplication: {num1} * {num2} = {result_mul}\")\n",
    "print(f\"Addition: {num1} + {num2} = {result_add}\")"
   ]
  },
  {
   "cell_type": "code",
   "execution_count": 4,
   "id": "93062ea8",
   "metadata": {},
   "outputs": [
    {
     "name": "stdout",
     "output_type": "stream",
     "text": [
      "120 minutes is equal to 2.0 hours\n"
     ]
    }
   ],
   "source": [
    "# Define the number of minutes\n",
    "minutes = 120  # Change this value to the number of minutes you want to convert\n",
    "\n",
    "# Convert minutes to hours\n",
    "hours = minutes / 60\n",
    "\n",
    "# Print the result\n",
    "print(f\"{minutes} minutes is equal to {hours} hours\")"
   ]
  },
  {
   "cell_type": "markdown",
   "id": "21d9b47c",
   "metadata": {},
   "source": [
    "# Objectives\n",
    "\n",
    "In this section, we'll outline the main objectives of our project or task. Clearly defined objectives help us stay focused and measure our progress effectively. Below are the key objectives:\n",
    "\n",
    "1. **Data Collection:** Gather relevant data from various sources, ensuring data quality and completeness.\n",
    "\n",
    "2. **Data Preprocessing:** Clean, transform, and prepare the data for analysis, addressing missing values and outliers.\n",
    "\n",
    "3. **Exploratory Data Analysis (EDA):** Perform an initial exploration of the data to understand its characteristics, distributions, and relationships.\n",
    "\n",
    "4. **Feature Engineering:** Create new features or modify existing ones to improve model performance and insights.\n",
    "\n",
    "5. **Model Building:** Develop machine learning models tailored to the problem, selecting appropriate algorithms and techniques.\n",
    "\n",
    "6. **Model Evaluation:** Assess the performance of models using suitable metrics and cross-validation techniques.\n",
    "\n",
    "7. **Model Tuning:** Fine-tune hyperparameters and optimize models for better predictive accuracy.\n",
    "\n",
    "8. **Interpretability:** Interpret model results and provide insights into the factors driving predictions.\n",
    "\n",
    "9. **Visualization:** Create informative visualizations to communicate findings effectively.\n",
    "\n",
    "10. **Documentation:** Document the entire data science process, including code, methodologies, and findings.\n",
    "\n",
    "11. **Presentation:** Prepare a clear and concise presentation to communicate results and recommendations to stakeholders.\n",
    "\n",
    "12. **Deployment (if applicable):** If the project involves deploying a model, ensure a smooth transition to production.\n",
    "\n",
    "13. **Monitoring and Maintenance (if applicable):** Implement monitoring and maintenance plans for deployed models."
   ]
  },
  {
   "cell_type": "markdown",
   "id": "cf3327f4",
   "metadata": {},
   "source": [
    "# Nazir Laureano Gandur"
   ]
  }
 ],
 "metadata": {
  "kernelspec": {
   "display_name": "Python 3 (ipykernel)",
   "language": "python",
   "name": "python3"
  },
  "language_info": {
   "codemirror_mode": {
    "name": "ipython",
    "version": 3
   },
   "file_extension": ".py",
   "mimetype": "text/x-python",
   "name": "python",
   "nbconvert_exporter": "python",
   "pygments_lexer": "ipython3",
   "version": "3.9.7"
  }
 },
 "nbformat": 4,
 "nbformat_minor": 5
}
